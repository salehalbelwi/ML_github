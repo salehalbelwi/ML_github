{
 "cells": [
  {
   "attachments": {},
   "cell_type": "markdown",
   "metadata": {},
   "source": [
    "# Multiple linear regression - Matrix design- vectorization "
   ]
  },
  {
   "cell_type": "code",
   "execution_count": null,
   "metadata": {},
   "outputs": [],
   "source": []
  },
  {
   "cell_type": "code",
   "execution_count": 66,
   "metadata": {},
   "outputs": [],
   "source": [
    "# Making the imports\n",
    "import numpy as np\n",
    "import pandas as pd\n",
    "import matplotlib.pyplot as plt\n",
    "import math\n",
    "from sklearn.model_selection import train_test_split"
   ]
  },
  {
   "cell_type": "code",
   "execution_count": 67,
   "metadata": {},
   "outputs": [
    {
     "name": "stdout",
     "output_type": "stream",
     "text": [
      "(506, 13)\n"
     ]
    },
    {
     "data": {
      "text/plain": [
       "array(['CRIM', 'ZN', 'INDUS', 'CHAS', 'NOX', 'RM', 'AGE', 'DIS', 'RAD',\n",
       "       'TAX', 'PTRATIO', 'B', 'LSTAT'], dtype='<U7')"
      ]
     },
     "execution_count": 67,
     "metadata": {},
     "output_type": "execute_result"
    }
   ],
   "source": [
    "from sklearn import datasets\n",
    "\n",
    "\n",
    "from sklearn.datasets import load_boston\n",
    "dataset = load_boston()\n",
    "\n",
    "X=dataset.data\n",
    "Y=dataset.target\n",
    "print(X.shape)\n",
    "\n",
    "dataset.feature_names\n",
    "\n"
   ]
  },
  {
   "cell_type": "code",
   "execution_count": 68,
   "metadata": {},
   "outputs": [],
   "source": [
    "from sklearn.datasets import make_regression\n",
    "X,Y=make_regression(n_samples=500)"
   ]
  },
  {
   "cell_type": "code",
   "execution_count": 69,
   "metadata": {},
   "outputs": [],
   "source": [
    "X_train,X_test,y_train,y_test = train_test_split(X,Y, test_size = .33, random_state = 0)"
   ]
  },
  {
   "cell_type": "code",
   "execution_count": 70,
   "metadata": {},
   "outputs": [],
   "source": [
    "def predict(X,theta,theta0):\n",
    "    return X.dot(theta)+theta0"
   ]
  },
  {
   "cell_type": "code",
   "execution_count": 71,
   "metadata": {},
   "outputs": [],
   "source": [
    "def CostFunction(y, y_hat):\n",
    "    cost = np.sum((y_hat - y) ** 2) / (len(y))\n",
    "    return cost"
   ]
  },
  {
   "cell_type": "code",
   "execution_count": 72,
   "metadata": {},
   "outputs": [
    {
     "name": "stdout",
     "output_type": "stream",
     "text": [
      "Cost is: 15772.54907483781\n",
      "Cost is: 150.10740477669307\n",
      "Cost is: 15.476793520542707\n",
      "Cost is: 2.4528032587991366\n",
      "Cost is: 0.47043165624621847\n",
      "Cost is: 0.10105853250025834\n",
      "Cost is: 0.023394708622196787\n",
      "Cost is: 0.005697715204032467\n",
      "Cost is: 0.0014364602862767986\n",
      "Cost is: 0.00037076855475041954\n"
     ]
    }
   ],
   "source": [
    "theta=np.zeros(X_train.shape[1],dtype=np.float32)\n",
    "theta0=0.\n",
    "theta,theta0,cost_=GradientDescent(X_train,y_train,theta,theta0,0.3,100)"
   ]
  },
  {
   "cell_type": "code",
   "execution_count": 73,
   "metadata": {},
   "outputs": [
    {
     "name": "stdout",
     "output_type": "stream",
     "text": [
      "335\n"
     ]
    },
    {
     "data": {
      "image/png": "[encoded data removed]",
      "text/plain": [
       "<Figure size 432x288 with 1 Axes>"
      ]
     },
     "metadata": {
      "needs_background": "light"
     },
     "output_type": "display_data"
    }
   ],
   "source": [
    "def fit1(X_train,y_train,lr=0.3,epochs=10):\n",
    "    theta=np.zeros(X_train.shape[1],dtype=np.float32)\n",
    "    theta0=np.zeros(1)\n",
    "    err=[]\n",
    "    n=X_train.shape[0]\n",
    "    print(n)\n",
    "    for i in range(epochs):\n",
    "       \n",
    "        y_hat=predict(X_train,theta,theta0)\n",
    "        loss = y_hat-y_train\n",
    "        d_theta=X_train.T.dot(loss)/n\n",
    "        d_theta0=np.sum(loss)/n\n",
    "      \n",
    "        err.append(CostFunction(y_train,y_hat))\n",
    "                                      \n",
    "        theta=theta-lr* d_theta\n",
    "        theta0=theta0-lr*d_theta0\n",
    "    \n",
    "    ##print(list(range(epochs))\n",
    "    plt.plot(list(range(epochs)),err)\n",
    "    return theta,theta0\n",
    "\n",
    "\n",
    "theta,theta0=fit1( X_train,y_train, lr=0.02,epochs=1000)\n",
    "    \n",
    "\n"
   ]
  },
  {
   "cell_type": "code",
   "execution_count": null,
   "metadata": {},
   "outputs": [],
   "source": []
  },
  {
   "cell_type": "code",
   "execution_count": null,
   "metadata": {},
   "outputs": [],
   "source": []
  },
  {
   "cell_type": "code",
   "execution_count": 74,
   "metadata": {},
   "outputs": [
    {
     "name": "stdout",
     "output_type": "stream",
     "text": [
      "   32.502345269453031  31.70700584656992\n",
      "0           53.426804          68.777596\n",
      "1           61.530358          62.562382\n",
      "2           47.475640          71.546632\n",
      "3           59.813208          87.230925\n",
      "4           55.142188          78.211518\n",
      "(99,)\n"
     ]
    },
    {
     "data": {
      "image/png": "[encoded data removed]",
      "text/plain": [
       "<Figure size 864x648 with 1 Axes>"
      ]
     },
     "metadata": {
      "needs_background": "light"
     },
     "output_type": "display_data"
    }
   ],
   "source": [
    "plt.rcParams['figure.figsize'] = (12.0, 9.0)\n",
    "\n",
    "# Preprocessing Input data\n",
    "data = pd.read_csv('data.csv')\n",
    "print(data.head())\n",
    "X = data.iloc[:, 0] ## features \n",
    "Y = data.iloc[:, 1]  ## label - correct pred\n",
    "print(X.shape)\n",
    "plt.scatter(X, Y)\n",
    "plt.show()"
   ]
  },
  {
   "cell_type": "code",
   "execution_count": 75,
   "metadata": {},
   "outputs": [
    {
     "name": "stdout",
     "output_type": "stream",
     "text": [
      "(99,)\n"
     ]
    }
   ],
   "source": [
    "print(X.shape)"
   ]
  },
  {
   "cell_type": "code",
   "execution_count": 76,
   "metadata": {},
   "outputs": [
    {
     "data": {
      "text/plain": [
       "(79,)"
      ]
     },
     "execution_count": 76,
     "metadata": {},
     "output_type": "execute_result"
    }
   ],
   "source": [
    "X_train,X_test,y_train,y_test = train_test_split(X,Y, test_size = 20, random_state = 0)\n",
    "X_train.shape"
   ]
  },
  {
   "cell_type": "markdown",
   "metadata": {},
   "source": [
    "# Simple linear regression"
   ]
  },
  {
   "cell_type": "code",
   "execution_count": 77,
   "metadata": {},
   "outputs": [
    {
     "name": "stdout",
     "output_type": "stream",
     "text": [
      "[1052.4490807871614, 452016.4163374389, 205478430.28779396, 93394872148.39685, 42450220066419.9, 1.9294647994321572e+16, 8.769882479826659e+18, 3.9861229255182694e+21, 1.8117889280605708e+24, 8.235017286668547e+26, 3.743013805936151e+29, 1.7012899747167865e+32, 7.732772915455329e+34, 3.5147316360312815e+37, 1.5975302273042028e+40, 7.261159859227169e+42, 3.300372136946869e+45, 1.5000986692909106e+48, 6.818309948798921e+50, 3.099086180768738e+53]\n"
     ]
    },
    {
     "name": "stderr",
     "output_type": "stream",
     "text": [
      "/opt/anaconda3/lib/python3.7/site-packages/ipykernel_launcher.py:20: RuntimeWarning: overflow encountered in double_scalars\n",
      "/opt/anaconda3/lib/python3.7/site-packages/ipykernel_launcher.py:19: RuntimeWarning: overflow encountered in double_scalars\n",
      "/opt/anaconda3/lib/python3.7/site-packages/ipykernel_launcher.py:21: RuntimeWarning: overflow encountered in double_scalars\n",
      "/opt/anaconda3/lib/python3.7/site-packages/ipykernel_launcher.py:25: RuntimeWarning: invalid value encountered in double_scalars\n",
      "/opt/anaconda3/lib/python3.7/site-packages/ipykernel_launcher.py:26: RuntimeWarning: invalid value encountered in double_scalars\n"
     ]
    }
   ],
   "source": [
    "def linear_prediction(theata0, theta1, x):\n",
    "    return theata0+theta1*x\n",
    "\n",
    "## train\n",
    "def fit(X,Y,lr=0.01, epochs=1000):\n",
    "    X=np.asarray(X)\n",
    "    X.shape\n",
    "    Y=np.asarray(Y)\n",
    "    # initaizling theata \n",
    "    theta0=0\n",
    "    theta1=0\n",
    "    mls=[]\n",
    "    for epoch in range(epochs):\n",
    "        d_theta0=.0\n",
    "        d_theta1=.0\n",
    "        err=0\n",
    "        for x, y in zip(X,Y):\n",
    "            y_hat=linear_prediction(theta0, theta1,x)\n",
    "            d_theta0=d_theta0+(y_hat-y)\n",
    "            d_theta1=d_theta1+(y_hat-y)*x\n",
    "            err+=np.abs((y_hat-y))\n",
    "        mls.append(err)\n",
    "        theta0=theta0/X.size\n",
    "        theta0=theta0/Y.size\n",
    "        theta0=theta0-(lr* d_theta0)\n",
    "        theta1=theta1-(lr* d_theta1)\n",
    "    print(mls[:20])\n",
    "fit(X_train,X_test)        \n",
    "        \n",
    "   \n",
    "    "
   ]
  },
  {
   "cell_type": "code",
   "execution_count": null,
   "metadata": {},
   "outputs": [],
   "source": []
  },
  {
   "cell_type": "code",
   "execution_count": null,
   "metadata": {},
   "outputs": [],
   "source": []
  },
  {
   "cell_type": "code",
   "execution_count": 79,
   "metadata": {},
   "outputs": [
    {
     "name": "stdout",
     "output_type": "stream",
     "text": [
      "99\n",
      "0.06532711149394307\n",
      "1.4803580552962574\n"
     ]
    }
   ],
   "source": [
    "theta0=0\n",
    "theta1=0\n",
    "learning_rate=0.0001\n",
    "epochs=1000\n",
    "n=int(X.shape[0])\n",
    "print(n)\n",
    "for i in range(epochs):\n",
    "   \n",
    "    d_theta0=0.\n",
    "    d_theta1=0.\n",
    "    for j in range(n):\n",
    "        x=X[j]\n",
    "        y=Y[j]\n",
    "        pred_y=theta0+theta1*x\n",
    "        d_theta0 +=(pred_y-y)\n",
    "        d_theta1 +=(pred_y-y)*x\n",
    "    d_theta0 /=n\n",
    "    d_theta1 /=n\n",
    "    theta0=theta0-learning_rate*d_theta0\n",
    "    theta1=theta1- learning_rate*d_theta1\n",
    "print(theta0)\n",
    "print(theta1)"
   ]
  },
  {
   "cell_type": "code",
   "execution_count": null,
   "metadata": {},
   "outputs": [],
   "source": []
  },
  {
   "cell_type": "code",
   "execution_count": null,
   "metadata": {},
   "outputs": [],
   "source": [
    "##x_axis=list(range(0,1000))\n",
    "##plt.plot(x_axis,error_list)"
   ]
  },
  {
   "cell_type": "code",
   "execution_count": 80,
   "metadata": {},
   "outputs": [],
   "source": [
    "def prediction(theta0, theta1, x):\n",
    "    return theta0+(theta1*x)\n",
    "\n",
    "# Making predictions\n",
    "Y_pred=prediction(theta0,theta1,X_test )"
   ]
  },
  {
   "cell_type": "code",
   "execution_count": 81,
   "metadata": {},
   "outputs": [
    {
     "data": {
      "image/png": "[encoded data removed]",
      "text/plain": [
       "<Figure size 864x648 with 1 Axes>"
      ]
     },
     "metadata": {
      "needs_background": "light"
     },
     "output_type": "display_data"
    }
   ],
   "source": [
    "\n",
    "plt.scatter(X_test, y_test, color = 'red')\n",
    "plt.plot(X_test,Y_pred, color = 'black')\n",
    "##plt.plot(X_train, prediction(theta0,theta1,X_train ), color = 'blue')\n",
    "\n",
    "\n",
    "plt.show()"
   ]
  },
  {
   "cell_type": "code",
   "execution_count": null,
   "metadata": {},
   "outputs": [],
   "source": []
  },
  {
   "cell_type": "code",
   "execution_count": null,
   "metadata": {},
   "outputs": [],
   "source": []
  },
  {
   "cell_type": "code",
   "execution_count": null,
   "metadata": {},
   "outputs": [],
   "source": []
  }
 ],
 "metadata": {
  "kernelspec": {
   "display_name": "Python 3",
   "language": "python",
   "name": "python3"
  },
  "language_info": {
   "codemirror_mode": {
    "name": "ipython",
    "version": 3
   },
   "file_extension": ".py",
   "mimetype": "text/x-python",
   "name": "python",
   "nbconvert_exporter": "python",
   "pygments_lexer": "ipython3",
   "version": "3.7.4"
  }
 },
 "nbformat": 4,
 "nbformat_minor": 2
}
